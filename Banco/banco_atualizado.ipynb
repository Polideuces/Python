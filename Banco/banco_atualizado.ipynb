{
 "cells": [
  {
   "cell_type": "markdown",
   "metadata": {},
   "source": [
    "O intuito é criar um sistema bancário com as operações: sacar, depositar e visualizar extrato. Cria usuário (cliente banco) e criar conta corrente (vincular ao cliente)."
   ]
  },
  {
   "cell_type": "markdown",
   "metadata": {},
   "source": [
    "Argumentos: salvo, valor, extrato, limite, numero_saques, limite_saques.\n",
    "\n",
    "Retorno: saldo e extrato"
   ]
  },
  {
   "cell_type": "markdown",
   "metadata": {},
   "source": [
    "Usuário irá salvar em formato lista: \n",
    "\n",
    "* Nome \n",
    "\n",
    "* Data Nascimento\n",
    "\n",
    "* CPF\n",
    "\n",
    "* Endereço (Rua - número - bairro - cidade - estado)"
   ]
  },
  {
   "cell_type": "markdown",
   "metadata": {},
   "source": [
    "Conta Corrente é sequencial (0001:)"
   ]
  },
  {
   "cell_type": "code",
   "execution_count": 20,
   "metadata": {},
   "outputs": [],
   "source": [
    "def menu() -> str:\n",
    "    mensagem = \"\"\" \n",
    "    Tecle a letra correspondente ao que deseja fazer:\n",
    "\n",
    "    [s] Saque\n",
    "    [d] Depósito\n",
    "    [e] Extrato\n",
    "    [n] Nova Conta\n",
    "    [l] Listar Contas\n",
    "    [m] Criar usuário\n",
    "    [q] Sair\n",
    "\n",
    "    =>\"\"\"\n",
    "    return mensagem"
   ]
  },
  {
   "cell_type": "code",
   "execution_count": 21,
   "metadata": {},
   "outputs": [],
   "source": [
    "def depositar(saldo: float, valor: float, extrato: str) -> tuple[float, str]:\n",
    "    \n",
    "    try:\n",
    "        if valor > 0:\n",
    "            saldo += valor\n",
    "            extrato += f\"Depósito: R${valor:.2f}\\n\"\n",
    "            print(\"\\n ====== Depósito realizado com sucesso ======\")\n",
    "        else:\n",
    "            print(\"Operação falhou! O valor informado é inválido.\")\n",
    "\n",
    "    except ValueError:\n",
    "        print(\"Operação falhou! O valor informado é inválido.\")\n",
    "\n",
    "\n",
    "    return saldo, extrato"
   ]
  },
  {
   "cell_type": "code",
   "execution_count": 22,
   "metadata": {},
   "outputs": [],
   "source": [
    "def sacar(valor: float, saldo: float, extrato: str, limite: float, numero_saque: int, saque_maximo: int)-> tuple[int, str, float]:\n",
    "    try:\n",
    "        \n",
    "        if valor > 0 and valor < saldo and numero_saque < saque_maximo:\n",
    "            numero_saque += 1\n",
    "            extrato += f\"Saque: R$ {valor:.2f}\\n\"\n",
    "            saldo -= valor\n",
    "            print(\"\\n === Saque realizado com sucesso ===\")\n",
    "\n",
    "        elif valor < 0:\n",
    "            print(\"Operação falhou! O valor informado é inválido.\")\n",
    "            \n",
    "        elif  valor > saldo:\n",
    "            print(\"Não é possível sacar o dinheiro por falta de saldo.\")\n",
    "\n",
    "        elif numero_saque >= saque_maximo:\n",
    "            print(\"Você já atingiu o limite máximo de saques diários.\")\n",
    "\n",
    "        elif valor > limite:\n",
    "            print(\"Não é possível sacar pelo valor ser maior que o valor permitido.\")\n",
    "\n",
    "    except (ValueError, Exception) as e:\n",
    "        print(f\"Operação falhou! {e}\")    \n",
    "    \n",
    "    return saldo, extrato"
   ]
  },
  {
   "cell_type": "code",
   "execution_count": 23,
   "metadata": {},
   "outputs": [],
   "source": [
    "def exibir_extrato(saldo, /, *, extrato):\n",
    "    print(\"\\n================ EXTRATO ================\")\n",
    "    print(\"Não foram realizadas movimentações.\" if not extrato else extrato)\n",
    "    print(f\"\\nSaldo: R$ {saldo:.2f}\")\n",
    "    print(\"==========================================\")\n",
    "    return saldo, extrato"
   ]
  },
  {
   "cell_type": "code",
   "execution_count": 24,
   "metadata": {},
   "outputs": [],
   "source": [
    "def criar_usuario(usuarios):\n",
    "    cpf = input(\"Informe o CPF (somente números)\")\n",
    "    if not cpf.isdigit():\n",
    "        print(\"CPF inválido. Digite apenas números.\")\n",
    "        return\n",
    "    \n",
    "    usuario = filtrar_usuario(cpf, usuarios)\n",
    "\n",
    "    if usuario:\n",
    "        print(\"\\n Usuário já existente!\")\n",
    "        return\n",
    "    \n",
    "    nome = input(\"\\n Digite o seu nome completo: \")\n",
    "    data_nascimento = input(\"Informe a data de nascimento (dd-mm-aaaa)\")\n",
    "    endereco = input(\"Informe o endereço (logradouro, nro - bairro - cidade/sigla estado): \")\n",
    "\n",
    "    usuarios.append({\"nome\": nome, \"data_nascimento\": data_nascimento, \"cpf\": cpf, \"endereco:\": endereco})\n",
    "\n",
    "    print(\"=== Usuário criado com sucesso! ===\")"
   ]
  },
  {
   "cell_type": "code",
   "execution_count": 25,
   "metadata": {},
   "outputs": [],
   "source": [
    "def filtrar_usuario(cpf, usuarios):\n",
    "    usuario_filtrado = [usuario for usuario in usuarios if usuario[\"cpf\"] == cpf]\n",
    "    return usuario_filtrado[0] if usuario_filtrado else None"
   ]
  },
  {
   "cell_type": "code",
   "execution_count": 26,
   "metadata": {},
   "outputs": [],
   "source": [
    "def criar_conta(agencia: str, numero_conta: int, usuarios: list)-> dict or None:\n",
    "    cpf = input(\"Informe o CPF do usuário: \")\n",
    "    usuario = filtrar_usuario(cpf, usuarios)\n",
    "\n",
    "    if usuario:\n",
    "        print(\"\\n=== Conta criada com sucesso! ===\")\n",
    "        return {\"agencia\": agencia, \"numero_conta\": numero_conta, \"usuario\": usuario}\n",
    "\n",
    "    print(\"\\n@@@ Usuário não encontrado, fluxo de criação de conta encerrado! @@@\")"
   ]
  },
  {
   "cell_type": "code",
   "execution_count": 27,
   "metadata": {},
   "outputs": [],
   "source": [
    "def listar_conta(contas: list) -> None:\n",
    "    for conta in contas:\n",
    "        linha = f\"\"\"\\\n",
    "            Agência: {conta['agencia']}\n",
    "            Conta Corrente: {conta['numero_conta']}\n",
    "            Titular: {conta['usuario']['nome']}\n",
    "        \"\"\"\n",
    "        print(\"=\" * 100)\n",
    "        print(linha)"
   ]
  },
  {
   "cell_type": "code",
   "execution_count": 30,
   "metadata": {},
   "outputs": [],
   "source": [
    "def banco():\n",
    "    saque_maximo = 3\n",
    "    agencia = \"0001\"\n",
    "\n",
    "    limite = 500\n",
    "    numero_saque = 0\n",
    "    saldo = 0\n",
    "    extrato = \"\"\n",
    "    usuarios = []\n",
    "    contas = []\n",
    "\n",
    "    while True:\n",
    "        opcao = input(menu().lower())\n",
    "\n",
    "        if opcao in [\"d\", \"s\", \"e\", \"m\", \"n\", \"l\", \"q\"]:\n",
    "\n",
    "            if opcao == \"d\":\n",
    "                valor = float(input(\"Informe o valor do depósito: \"))\n",
    "\n",
    "                saldo, extrato = depositar(saldo, valor, extrato)\n",
    "\n",
    "            elif opcao == \"s\":\n",
    "                valor = float(input(\"Informe o valor do saque: \"))\n",
    "\n",
    "                saldo, extrato = sacar(\n",
    "                    saldo = saldo,\n",
    "                    valor = valor,\n",
    "                    extrato = extrato,\n",
    "                    limite = limite,\n",
    "                    numero_saque = numero_saque,\n",
    "                    saque_maximo = saque_maximo,\n",
    "                )\n",
    "\n",
    "            elif opcao == \"e\":\n",
    "                exibir_extrato(saldo, extrato=extrato)\n",
    "\n",
    "            elif opcao == \"m\":\n",
    "                criar_usuario(usuarios)\n",
    "\n",
    "            elif opcao == \"n\":\n",
    "                numero_conta = len(contas) + 1\n",
    "                conta = criar_conta(agencia, numero_conta, usuarios)\n",
    "\n",
    "                if conta:\n",
    "                    contas.append(conta)\n",
    "\n",
    "            elif opcao == \"l\":\n",
    "                listar_contas(contas)\n",
    "\n",
    "            elif opcao == \"q\":\n",
    "                break\n",
    "\n",
    "        else:\n",
    "            print(\"Operação inválida, por favor selecione novamente a operação desejada.\")\n"
   ]
  },
  {
   "cell_type": "code",
   "execution_count": 31,
   "metadata": {},
   "outputs": [
    {
     "name": "stdout",
     "output_type": "stream",
     "text": [
      "Não é possível sacar o dinheiro por falta de saldo.\n"
     ]
    }
   ],
   "source": [
    "banco()"
   ]
  }
 ],
 "metadata": {
  "kernelspec": {
   "display_name": "Python 3",
   "language": "python",
   "name": "python3"
  },
  "language_info": {
   "codemirror_mode": {
    "name": "ipython",
    "version": 3
   },
   "file_extension": ".py",
   "mimetype": "text/x-python",
   "name": "python",
   "nbconvert_exporter": "python",
   "pygments_lexer": "ipython3",
   "version": "3.10.12"
  }
 },
 "nbformat": 4,
 "nbformat_minor": 2
}
