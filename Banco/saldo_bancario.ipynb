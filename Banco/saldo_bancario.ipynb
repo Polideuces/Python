{
 "cells": [
  {
   "cell_type": "markdown",
   "metadata": {},
   "source": [
    "O intuito é criar um sistema bancário com as operações: sacar, depositar e visualizar extrato."
   ]
  },
  {
   "cell_type": "code",
   "execution_count": null,
   "metadata": {},
   "outputs": [],
   "source": [
    "mensagem = \"\"\" \n",
    "Tecle a letra correspondente ao que deseja fazer:\n",
    "\n",
    "[s] Saque\n",
    "[d] Depósito\n",
    "[e] Extrato\n",
    "[q] Sair\n",
    "\n",
    "=>\"\"\""
   ]
  },
  {
   "cell_type": "code",
   "execution_count": null,
   "metadata": {},
   "outputs": [],
   "source": [
    "saque_maximo = 3\n",
    "limite = 500\n",
    "numero_saque = 0\n",
    "saldo = 0\n",
    "extrato = \"\""
   ]
  },
  {
   "cell_type": "code",
   "execution_count": null,
   "metadata": {},
   "outputs": [],
   "source": [
    "\n",
    "while True:\n",
    "    resposta = input(mensagem)\n",
    "    \n",
    "\n",
    "    if resposta == \"q\":\n",
    "        break\n",
    "\n",
    "\n",
    "    elif resposta == \"s\":\n",
    "        valor = float(input(\"Digite quanto deseja sacar: R$ \"))\n",
    "\n",
    "        \n",
    "        if valor > 0 and valor < saldo and numero_saque < saque_maximo:\n",
    "            numero_saque += 1\n",
    "            extrato += f\"Saque: R$ {valor:.2f}\\n\"\n",
    "            saldo -= valor\n",
    "\n",
    "        elif valor < 0:\n",
    "            print(\"Operação falhou! O valor informado é inválido.\")\n",
    "            \n",
    "        elif  valor > saldo:\n",
    "            print(\"Não é possível sacar o dinheiro por falta de saldo.\")\n",
    "\n",
    "        elif numero_saque >= saque_maximo:\n",
    "            print(\"Você já atingiu o limite máximo de saques diários.\")\n",
    "\n",
    "        elif valor > limite:\n",
    "            print(\"Não é possível sacar pelo valor ser maior que o valor permitido.\")\n",
    "        \n",
    "        \n",
    "\n",
    "    elif resposta == \"d\":\n",
    "        valor = float(input(\"Digite quanto deseja depositar: R$ \"))\n",
    "        if valor > 0:\n",
    "            saldo += valor\n",
    "            extrato += f\"Depósito: R${valor:.2f}\\n\"\n",
    "        else:\n",
    "            print(\"Operação falhou! O valor informado é inválido.\")\n",
    "        \n",
    "\n",
    "    elif resposta == \"e\":\n",
    "        print(\"\\n================ EXTRATO ================\")\n",
    "        print(\"Não foram realizadas movimentações.\" if not extrato else extrato)\n",
    "        print(f\"\\nSaldo: R$ {saldo:.2f}\")\n",
    "        print(\"==========================================\")\n",
    "    \n",
    "    else:\n",
    "        print(\"Operação inválida, por favor selecione novamente a operação desejada.\")\n",
    "\n",
    "\n",
    "            "
   ]
  }
 ],
 "metadata": {
  "kernelspec": {
   "display_name": "Python 3",
   "language": "python",
   "name": "python3"
  },
  "language_info": {
   "codemirror_mode": {
    "name": "ipython",
    "version": 3
   },
   "file_extension": ".py",
   "mimetype": "text/x-python",
   "name": "python",
   "nbconvert_exporter": "python",
   "pygments_lexer": "ipython3",
   "version": "3.10.12"
  }
 },
 "nbformat": 4,
 "nbformat_minor": 2
}
